{
 "cells": [
  {
   "cell_type": "code",
   "execution_count": 2,
   "id": "a1a01d7c-a6bc-47cf-b1a0-ca3aa0a01b8e",
   "metadata": {},
   "outputs": [],
   "source": [
    "import pandas as pd\n",
    "import numpy as np\n",
    "\n",
    "import matplotlib.pyplot as plt\n",
    "import matplotlib.animation as animation\n",
    "from matplotlib.animation import FuncAnimation\n",
    "import matplotlib.axes as ax"
   ]
  },
  {
   "cell_type": "code",
   "execution_count": 3,
   "id": "419da467-61fa-4a0f-a71f-83b9915050c2",
   "metadata": {},
   "outputs": [],
   "source": [
    "data = pd.read_csv('one.csv')"
   ]
  },
  {
   "cell_type": "code",
   "execution_count": 4,
   "id": "8465c508-dbd4-4de6-a2bc-dcf68fef3ddb",
   "metadata": {},
   "outputs": [],
   "source": [
    "data = data.dropna()  #Dropping the missing values"
   ]
  },
  {
   "cell_type": "code",
   "execution_count": 5,
   "id": "1ca9570c-fe83-4f28-961d-cf783045e4d1",
   "metadata": {},
   "outputs": [
    {
     "name": "stdout",
     "output_type": "stream",
     "text": [
      "(699, 2)\n"
     ]
    },
    {
     "data": {
      "text/html": [
       "<div>\n",
       "<style scoped>\n",
       "    .dataframe tbody tr th:only-of-type {\n",
       "        vertical-align: middle;\n",
       "    }\n",
       "\n",
       "    .dataframe tbody tr th {\n",
       "        vertical-align: top;\n",
       "    }\n",
       "\n",
       "    .dataframe thead th {\n",
       "        text-align: right;\n",
       "    }\n",
       "</style>\n",
       "<table border=\"1\" class=\"dataframe\">\n",
       "  <thead>\n",
       "    <tr style=\"text-align: right;\">\n",
       "      <th></th>\n",
       "      <th>x</th>\n",
       "      <th>y</th>\n",
       "    </tr>\n",
       "  </thead>\n",
       "  <tbody>\n",
       "    <tr>\n",
       "      <th>0</th>\n",
       "      <td>24.0</td>\n",
       "      <td>21.549452</td>\n",
       "    </tr>\n",
       "    <tr>\n",
       "      <th>1</th>\n",
       "      <td>50.0</td>\n",
       "      <td>47.464463</td>\n",
       "    </tr>\n",
       "    <tr>\n",
       "      <th>2</th>\n",
       "      <td>15.0</td>\n",
       "      <td>17.218656</td>\n",
       "    </tr>\n",
       "    <tr>\n",
       "      <th>3</th>\n",
       "      <td>38.0</td>\n",
       "      <td>36.586398</td>\n",
       "    </tr>\n",
       "    <tr>\n",
       "      <th>4</th>\n",
       "      <td>87.0</td>\n",
       "      <td>87.288984</td>\n",
       "    </tr>\n",
       "    <tr>\n",
       "      <th>...</th>\n",
       "      <td>...</td>\n",
       "      <td>...</td>\n",
       "    </tr>\n",
       "    <tr>\n",
       "      <th>695</th>\n",
       "      <td>58.0</td>\n",
       "      <td>58.595006</td>\n",
       "    </tr>\n",
       "    <tr>\n",
       "      <th>696</th>\n",
       "      <td>93.0</td>\n",
       "      <td>94.625094</td>\n",
       "    </tr>\n",
       "    <tr>\n",
       "      <th>697</th>\n",
       "      <td>82.0</td>\n",
       "      <td>88.603770</td>\n",
       "    </tr>\n",
       "    <tr>\n",
       "      <th>698</th>\n",
       "      <td>66.0</td>\n",
       "      <td>63.648685</td>\n",
       "    </tr>\n",
       "    <tr>\n",
       "      <th>699</th>\n",
       "      <td>97.0</td>\n",
       "      <td>94.975266</td>\n",
       "    </tr>\n",
       "  </tbody>\n",
       "</table>\n",
       "<p>699 rows × 2 columns</p>\n",
       "</div>"
      ],
      "text/plain": [
       "        x          y\n",
       "0    24.0  21.549452\n",
       "1    50.0  47.464463\n",
       "2    15.0  17.218656\n",
       "3    38.0  36.586398\n",
       "4    87.0  87.288984\n",
       "..    ...        ...\n",
       "695  58.0  58.595006\n",
       "696  93.0  94.625094\n",
       "697  82.0  88.603770\n",
       "698  66.0  63.648685\n",
       "699  97.0  94.975266\n",
       "\n",
       "[699 rows x 2 columns]"
      ]
     },
     "execution_count": 5,
     "metadata": {},
     "output_type": "execute_result"
    }
   ],
   "source": [
    "print(data.shape)\n",
    "data.head(700)"
   ]
  },
  {
   "cell_type": "code",
   "execution_count": 6,
   "id": "143a72c8-60b7-45f3-8f10-6d6dadd20d66",
   "metadata": {},
   "outputs": [],
   "source": [
    "train_input= np.array(data.x[0:500]).reshape(500,1)\n",
    "train_output= np.array(data.y[0:500]).reshape(500,1)\n",
    "test_input = np.array(data.x[500:700]).reshape(199,1)\n",
    "test_output = np.array(data.y[500:700]).reshape(199,1)"
   ]
  },
  {
   "cell_type": "code",
   "execution_count": 7,
   "id": "bfbd16e6-c7ff-4abe-844a-fa55a4a1b158",
   "metadata": {},
   "outputs": [
    {
     "name": "stderr",
     "output_type": "stream",
     "text": [
      "MovieWriter ffmpeg unavailable; using Pillow instead.\n"
     ]
    },
    {
     "name": "stdout",
     "output_type": "stream",
     "text": [
      "Iteration = 1, Loss = 12811.482389874685\n",
      "Iteration = 1, Loss = 1550.8028428468322\n",
      "Iteration = 1, Loss = 193.7684110799971\n",
      "Iteration = 1, Loss = 30.23099374568915\n",
      "Iteration = 2, Loss = 10.522955077677697\n",
      "Iteration = 3, Loss = 8.14792178579235\n",
      "Iteration = 4, Loss = 7.861704271022024\n",
      "Iteration = 5, Loss = 7.827211789290359\n",
      "Iteration = 6, Loss = 7.823054913494601\n",
      "Iteration = 7, Loss = 7.822553808362083\n",
      "Iteration = 8, Loss = 7.822493263394764\n",
      "Iteration = 9, Loss = 7.822485810737573\n",
      "Iteration = 10, Loss = 7.822484756297283\n",
      "Iteration = 11, Loss = 7.822484472927508\n",
      "Iteration = 12, Loss = 7.8224842824958705\n",
      "Iteration = 13, Loss = 7.8224841032800345\n",
      "Iteration = 14, Loss = 7.822483925431566\n",
      "Iteration = 15, Loss = 7.822483747763623\n",
      "Iteration = 16, Loss = 7.822483570133174\n",
      "Iteration = 17, Loss = 7.822483392522983\n",
      "Iteration = 18, Loss = 7.82248321493097\n",
      "Iteration = 19, Loss = 7.822483037356881\n",
      "Iteration = 20, Loss = 7.822482859800689\n"
     ]
    },
    {
     "data": {
      "image/png": "[encoded data removed]",
      "text/plain": [
       "<Figure size 640x480 with 1 Axes>"
      ]
     },
     "metadata": {},
     "output_type": "display_data"
    }
   ],
   "source": [
    "class LinearRegression:\n",
    "    def __init__(self):\n",
    "        self.parameters = {'m': None, 'c': None}\n",
    "\n",
    "    def forward_propagation(self, train_input):\n",
    "        m = self.parameters['m']\n",
    "        c = self.parameters['c']\n",
    "        predictions = np.multiply(m, train_input) + c\n",
    "        return predictions\n",
    "\n",
    "    def cost_function(self, predictions, train_output):\n",
    "        cost = np.mean((train_output - predictions) ** 2)\n",
    "        return cost\n",
    "\n",
    "    def backward_propagation(self, train_input, train_output, predictions):\n",
    "        derivatives = {}\n",
    "        df = predictions - train_output\n",
    "        dm = 2 * np.mean(np.multiply(train_input, df))\n",
    "        dc = 2 * np.mean(df)\n",
    "        derivatives['dm'] = dm\n",
    "        derivatives['dc'] = dc\n",
    "        return derivatives\n",
    "\n",
    "    def update_parameter(self, derivatives, learning_rate):\n",
    "        self.parameters['m'] = self.parameters['m'] - learning_rate * derivatives['dm']\n",
    "        self.parameters['c'] = self.parameters['c'] - learning_rate * derivatives['dc']\n",
    "\n",
    "    def train(self, train_input, train_output, learning_rate, iters):\n",
    "        self.parameters['m'] = np.random.uniform(0, 1) * -1\n",
    "        self.parameters['c'] = np.random.uniform(0, 1) * -1\n",
    "        self.loss = []\n",
    "        fig, ax = plt.subplots()\n",
    "        x_vals = np.linspace(min(train_input), max(train_input), 100)\n",
    "        line, = ax.plot(x_vals, self.parameters['m'] * x_vals + self.parameters['c'], color='red', label='regression line')\n",
    "        ax.scatter(train_input, train_output, marker='o', color='green', label='training data')\n",
    "        ax.set_ylim(0, max(train_output) + 1)\n",
    "\n",
    "        def update(frame):\n",
    "            predictions = self.forward_propagation(train_input)\n",
    "            cost = self.cost_function(predictions, train_output)\n",
    "            derivatives = self.backward_propagation(train_input, train_output, predictions)\n",
    "            self.update_parameter(derivatives, learning_rate)\n",
    "            line.set_ydata(self.parameters['m'] * x_vals + self.parameters['c'])\n",
    "            self.loss.append(cost)\n",
    "            print(\"Iteration = {}, Loss = {}\".format(frame + 1, cost))\n",
    "            return line,\n",
    "\n",
    "        ani = animation.FuncAnimation(fig, update, frames=iters, interval=200, blit=True)\n",
    "        ani.save('Linear_Regression.gif', writer='ffmpeg')\n",
    "        plt.xlabel('INPUT')\n",
    "        plt.ylabel('OUTPUT')\n",
    "        plt.title('LINEAR REGRESSION')\n",
    "        plt.legend()\n",
    "        plt.show()\n",
    "        return self.parameters, self.loss\n",
    "\n",
    "linear_reg = LinearRegression()\n",
    "parameters, loss = linear_reg.train(train_input, train_output, 0.0001, 20)"
   ]
  },
  {
   "cell_type": "code",
   "execution_count": null,
   "id": "382380bd-a8d3-4b22-b7ec-b06a7f830337",
   "metadata": {},
   "outputs": [],
   "source": []
  }
 ],
 "metadata": {
  "kernelspec": {
   "display_name": "Python 3 (ipykernel)",
   "language": "python",
   "name": "python3"
  },
  "language_info": {
   "codemirror_mode": {
    "name": "ipython",
    "version": 3
   },
   "file_extension": ".py",
   "mimetype": "text/x-python",
   "name": "python",
   "nbconvert_exporter": "python",
   "pygments_lexer": "ipython3",
   "version": "3.11.7"
  }
 },
 "nbformat": 4,
 "nbformat_minor": 5
}
